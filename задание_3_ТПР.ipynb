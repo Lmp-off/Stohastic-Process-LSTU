{
 "cells": [
  {
   "cell_type": "code",
   "execution_count": 1,
   "id": "c8e13c92-ec4b-453a-9185-2aa107ca5c13",
   "metadata": {},
   "outputs": [],
   "source": [
    "import numpy as np"
   ]
  },
  {
   "cell_type": "code",
   "execution_count": 3,
   "id": "3b1b6ad9-8710-4063-9ed1-b2242173be46",
   "metadata": {},
   "outputs": [],
   "source": [
    "W = np.array([\n",
    "    [1,1,6,1/3,1/2],\n",
    "    [1,1,7,2,1/2],\n",
    "    [1/6,1/7,1,2,1/3],\n",
    "    [3,1/2,1/2,1,3],\n",
    "    [2,2,3,1/3,1]\n",
    "])"
   ]
  },
  {
   "cell_type": "code",
   "execution_count": 43,
   "id": "e25852d7-75a5-4385-90f0-0741f2fe3306",
   "metadata": {},
   "outputs": [
    {
     "data": {
      "text/plain": [
       "array([1.        , 1.47577316, 0.43664842, 1.17607902, 1.31950791])"
      ]
     },
     "execution_count": 43,
     "metadata": {},
     "output_type": "execute_result"
    }
   ],
   "source": [
    "_w = np.array([np.prod(row)**(1/W.shape[1]) for row in W])\n",
    "_w"
   ]
  },
  {
   "cell_type": "code",
   "execution_count": 45,
   "id": "5dd3407a-48e5-4bad-97db-95a9881d55a3",
   "metadata": {},
   "outputs": [
    {
     "data": {
      "text/plain": [
       "5.40800851197066"
      ]
     },
     "execution_count": 45,
     "metadata": {},
     "output_type": "execute_result"
    }
   ],
   "source": [
    "sum(_w)"
   ]
  },
  {
   "cell_type": "code",
   "execution_count": 47,
   "id": "dd92ba3f-e40d-4ca8-8412-3a58d98181c0",
   "metadata": {},
   "outputs": [
    {
     "data": {
      "text/plain": [
       "array([0.18491095, 0.27288662, 0.08074107, 0.21746989, 0.24399146])"
      ]
     },
     "execution_count": 47,
     "metadata": {},
     "output_type": "execute_result"
    }
   ],
   "source": [
    "w = _w/sum(_w)\n",
    "w"
   ]
  },
  {
   "cell_type": "code",
   "execution_count": 53,
   "id": "4797de4d-dfa9-4958-8697-d117086b0971",
   "metadata": {},
   "outputs": [
    {
     "name": "stdout",
     "output_type": "stream",
     "text": [
      "оптимальная альтернатива x2, w2 = 0.2728866195990482\n"
     ]
    }
   ],
   "source": [
    "print(f'оптимальная альтернатива x{np.argmax(w)+1}, w{np.argmax(w)+1} = {max(w)}')"
   ]
  }
 ],
 "metadata": {
  "kernelspec": {
   "display_name": "Python 3 (ipykernel)",
   "language": "python",
   "name": "python3"
  },
  "language_info": {
   "codemirror_mode": {
    "name": "ipython",
    "version": 3
   },
   "file_extension": ".py",
   "mimetype": "text/x-python",
   "name": "python",
   "nbconvert_exporter": "python",
   "pygments_lexer": "ipython3",
   "version": "3.12.4"
  }
 },
 "nbformat": 4,
 "nbformat_minor": 5
}
