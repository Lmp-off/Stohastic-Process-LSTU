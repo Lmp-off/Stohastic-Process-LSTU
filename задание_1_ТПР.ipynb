{
 "cells": [
  {
   "cell_type": "code",
   "execution_count": 2,
   "id": "a02817d6-1d29-4b59-80f2-9a033da074c5",
   "metadata": {},
   "outputs": [],
   "source": [
    "import numpy as np"
   ]
  },
  {
   "cell_type": "code",
   "execution_count": 19,
   "id": "1fa3b90b-5226-4fe1-ad5a-c783553928f2",
   "metadata": {},
   "outputs": [],
   "source": [
    "R1 = [\n",
    "    [1, 1, 0.3, 0.3],\n",
    "    [0, 1, 0.9, 0.4],\n",
    "    [0.5, 0.5, 1, 0],\n",
    "    [0.5, 0.5, 1, 1]\n",
    "]\n",
    "\n",
    "R2 = [\n",
    "    [1, 0, 0.2, 0.5],\n",
    "    [1, 1, 0.1, 0.4],\n",
    "    [0.5, 0.5, 1, 1],\n",
    "    [0.5, 0.5, 0, 1]\n",
    "]\n",
    "\n",
    "R3 = [\n",
    "    [1, 0.1, 0.2, 1],\n",
    "    [0.5, 1, 1, 0.2],\n",
    "    [0.5, 0, 1, 0.6],\n",
    "    [0, 0.5, 0.5, 1]\n",
    "]\n",
    "\n",
    "R4 = [\n",
    "    [1, 0.1, 0.8, 0],\n",
    "    [0.5, 1, 0, 0.4],\n",
    "    [0.5, 1, 1, 0.1],\n",
    "    [1, 0.5, 0.5, 1]\n",
    "]\n",
    "\n",
    "R5 = [\n",
    "    [1, 0.3, 1, 0.9],\n",
    "    [0.5, 1, 0.4, 1],\n",
    "    [0, 0.5, 1, 0.9],\n",
    "    [0.5, 0, 0.5, 1]\n",
    "]\n",
    "\n",
    "l1 = 0.3\n",
    "l2 = 0.2\n",
    "l3 = 0.1\n",
    "l4 = 0.1\n",
    "l5 = 0.3\n",
    "\n",
    "ls = np.array([l1,l2,l3,l4,l5])\n",
    "Rs = np.array([R1,R2,R3,R4,R5])"
   ]
  },
  {
   "cell_type": "code",
   "execution_count": 22,
   "id": "82a7b304-7d7e-4820-ad5f-fc25dfcf7624",
   "metadata": {
    "scrolled": true
   },
   "outputs": [
    {
     "data": {
      "text/plain": [
       "array([[1. , 0. , 0.2, 0. ],\n",
       "       [0. , 1. , 0. , 0.2],\n",
       "       [0. , 0. , 1. , 0. ],\n",
       "       [0. , 0. , 0. , 1. ]])"
      ]
     },
     "execution_count": 22,
     "metadata": {},
     "output_type": "execute_result"
    }
   ],
   "source": [
    "Q1 = np.minimum.reduce([R1,R2,R3,R4,R5])\n",
    "Q1"
   ]
  },
  {
   "cell_type": "code",
   "execution_count": 5,
   "id": "fb6454ee-97af-44d0-bb13-c5f128185cdb",
   "metadata": {
    "scrolled": true
   },
   "outputs": [
    {
     "name": "stdout",
     "output_type": "stream",
     "text": [
      "Q1s\n",
      "[[0.  0.  0.2 0. ]\n",
      " [0.  0.  0.  0.2]\n",
      " [0.  0.  0.  0. ]\n",
      " [0.  0.  0.  0. ]]\n",
      "\n",
      "max\n",
      "[0.  0.  0.2 0.2]\n",
      "\n",
      "m_нд_Q1s\n",
      "[1.  1.  0.8 0.8]\n"
     ]
    }
   ],
   "source": [
    "Q1s = np.maximum(Q1-Q1.T,0)\n",
    "print(f'Q1s\\n{Q1s}\\n\\nmax\\n{np.max(Q1s,axis=0)}\\n\\nm_нд_Q1s\\n{1-np.max(Q1s,axis=0)}')"
   ]
  },
  {
   "cell_type": "code",
   "execution_count": 6,
   "id": "7a3f0431-1f4b-4567-8a59-d06e6bd1c680",
   "metadata": {
    "scrolled": true
   },
   "outputs": [
    {
     "data": {
      "text/plain": [
       "array([[1.  , 0.41, 0.53, 0.56],\n",
       "       [0.45, 1.  , 0.51, 0.56],\n",
       "       [0.35, 0.5 , 1.  , 0.54],\n",
       "       [0.5 , 0.35, 0.55, 1.  ]])"
      ]
     },
     "execution_count": 6,
     "metadata": {},
     "output_type": "execute_result"
    }
   ],
   "source": [
    "Q2 = np.einsum('i,ijk->jk', ls, Rs)\n",
    "Q2"
   ]
  },
  {
   "cell_type": "code",
   "execution_count": 7,
   "id": "685efc5c-26fb-4018-a0bc-dc571638e9a8",
   "metadata": {
    "scrolled": true
   },
   "outputs": [
    {
     "name": "stdout",
     "output_type": "stream",
     "text": [
      "Q2s\n",
      "[[0.   0.   0.18 0.06]\n",
      " [0.04 0.   0.01 0.21]\n",
      " [0.   0.   0.   0.  ]\n",
      " [0.   0.   0.01 0.  ]]\n",
      "\n",
      "max\n",
      "[0.04 0.   0.18 0.21]\n",
      "\n",
      "m_нд_Q2s\n",
      "[0.96 1.   0.82 0.79]\n"
     ]
    }
   ],
   "source": [
    "Q2s = np.maximum(Q2-Q2.T,0)\n",
    "print(f'Q2s\\n{Q2s}\\n\\nmax\\n{np.max(Q2s,axis=0)}\\n\\nm_нд_Q2s\\n{1-np.max(Q2s,axis=0)}')"
   ]
  },
  {
   "cell_type": "code",
   "execution_count": 8,
   "id": "c7633b35-121f-40eb-934c-9baa499305de",
   "metadata": {
    "scrolled": true
   },
   "outputs": [
    {
     "name": "stdout",
     "output_type": "stream",
     "text": [
      "m_нд_Q1 [1.  1.  0.8 0.8]\n",
      "m_нд_Q2 [0.96 1.   0.82 0.79]\n",
      "m_нд [0.96 1.   0.8  0.79]\n"
     ]
    }
   ],
   "source": [
    "print(f'm_нд_Q1 {1-np.max(Q1s,axis=0)}\\nm_нд_Q2 {1-np.max(Q2s,axis=0)}\\nm_нд {np.minimum(1-np.max(Q1s,axis=0),1-np.max(Q2s,axis=0))}')"
   ]
  },
  {
   "cell_type": "code",
   "execution_count": 9,
   "id": "ae65a4bd-f865-4350-b4a8-f13ab56401e0",
   "metadata": {
    "scrolled": true
   },
   "outputs": [
    {
     "name": "stdout",
     "output_type": "stream",
     "text": [
      "Оптимальная альтернатива - 2, = 1.0\n"
     ]
    }
   ],
   "source": [
    "print(f'Оптимальная альтернатива - {1+np.argmax(np.minimum(1-np.max(Q1s,axis=0),1-np.max(Q2s,axis=0)))}, = {np.max(np.minimum(1-np.max(Q1s,axis=0),1-np.max(Q2s,axis=0)))}')"
   ]
  },
  {
   "cell_type": "code",
   "execution_count": null,
   "id": "87637ae1-df92-433e-b587-01f7878638d2",
   "metadata": {},
   "outputs": [],
   "source": []
  }
 ],
 "metadata": {
  "kernelspec": {
   "display_name": "Python 3 (ipykernel)",
   "language": "python",
   "name": "python3"
  },
  "language_info": {
   "codemirror_mode": {
    "name": "ipython",
    "version": 3
   },
   "file_extension": ".py",
   "mimetype": "text/x-python",
   "name": "python",
   "nbconvert_exporter": "python",
   "pygments_lexer": "ipython3",
   "version": "3.12.4"
  }
 },
 "nbformat": 4,
 "nbformat_minor": 5
}
