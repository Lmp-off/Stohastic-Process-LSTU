{
 "cells": [
  {
   "cell_type": "code",
   "execution_count": 1,
   "id": "3618e9c4-7ee4-4cb4-8835-df4cce0d05fe",
   "metadata": {},
   "outputs": [],
   "source": [
    "import numpy as np"
   ]
  },
  {
   "cell_type": "code",
   "execution_count": 3,
   "id": "47e6ec24-50be-4580-b6cb-12aa2e3aae7b",
   "metadata": {},
   "outputs": [],
   "source": [
    "R1 = np.array([\n",
    "    [1.0, 1.0, 0.1, 0.4],\n",
    "    [0.0, 1.0, 0.7, 0.4],\n",
    "    [0.5, 0.5, 1.0, 0.0],\n",
    "    [0.5, 0.5, 1.0, 1.0]\n",
    "])\n",
    "\n",
    "R2 = np.array([\n",
    "    [1.0, 0.0, 0.3, 0.2],\n",
    "    [1.0, 1.0, 0.8, 0.6],\n",
    "    [0.5, 0.5, 1.0, 1.0],\n",
    "    [0.5, 0.5, 0.0, 1.0]\n",
    "])\n",
    "\n",
    "R3 = np.array([\n",
    "    [1.0, 0.2, 0.7, 1.0],\n",
    "    [0.5, 1.0, 1.0, 0.3],\n",
    "    [0.5, 0.0, 1.0, 0.7],\n",
    "    [0.0, 0.5, 0.5, 1.0]\n",
    "])\n",
    "\n",
    "R4 = np.array([\n",
    "    [1.0, 0.2, 0.3, 0.0],\n",
    "    [0.5, 1.0, 0.0, 0.7],\n",
    "    [0.5, 1.0, 1.0, 0.8],\n",
    "    [1.0, 0.5, 0.5, 1.0]\n",
    "])\n",
    "\n",
    "R5 = np.array([\n",
    "    [1.0, 0.2, 1.0, 0.9],\n",
    "    [0.5, 1.0, 0.8, 1.0],\n",
    "    [0.0, 0.5, 1.0, 0.5],\n",
    "    [0.5, 0.0, 0.5, 1.0]\n",
    "])\n",
    "\n",
    "E = np.array([\n",
    "    [1.0, 0.1, 0.3, 0.1, 0.9],\n",
    "    [0.4, 1.0, 0.2, 0.2, 0.7],\n",
    "    [0.2, 0.5, 1.0, 0.2, 0.1],\n",
    "    [0.8, 0.3, 0.6, 1.0, 0.3],\n",
    "    [0.5, 0.2, 0.4, 0.6, 1.0]\n",
    "])"
   ]
  },
  {
   "cell_type": "code",
   "execution_count": 40,
   "id": "6ba56838-535e-4f19-8951-da85b42299c4",
   "metadata": {
    "scrolled": true
   },
   "outputs": [
    {
     "name": "stdout",
     "output_type": "stream",
     "text": [
      "R1s\n",
      "[[0.  1.  0.  0. ]\n",
      " [0.  0.  0.2 0. ]\n",
      " [0.4 0.  0.  0. ]\n",
      " [0.1 0.1 1.  0. ]]\n",
      "max\n",
      "[0.4 1.  1.  0. ]\n",
      "mu_нд_R1\n",
      "[0.6 0.  0.  1. ]\n",
      "\n",
      "R2s\n",
      "[[0.  0.  0.  0. ]\n",
      " [1.  0.  0.3 0.1]\n",
      " [0.2 0.  0.  1. ]\n",
      " [0.3 0.  0.  0. ]]\n",
      "max\n",
      "[1.  0.  0.3 1. ]\n",
      "mu_нд_R2\n",
      "[0.  1.  0.7 0. ]\n",
      "\n",
      "R3s\n",
      "[[0.  0.  0.2 1. ]\n",
      " [0.3 0.  1.  0. ]\n",
      " [0.  0.  0.  0.2]\n",
      " [0.  0.2 0.  0. ]]\n",
      "max\n",
      "[0.3 0.2 1.  1. ]\n",
      "mu_нд_R3\n",
      "[0.7 0.8 0.  0. ]\n",
      "\n",
      "R4s\n",
      "[[0.  0.  0.  0. ]\n",
      " [0.3 0.  0.  0.2]\n",
      " [0.2 1.  0.  0.3]\n",
      " [1.  0.  0.  0. ]]\n",
      "max\n",
      "[1.  1.  0.  0.3]\n",
      "mu_нд_R4\n",
      "[0.  0.  1.  0.7]\n",
      "\n",
      "R5s\n",
      "[[0.  0.  1.  0.4]\n",
      " [0.3 0.  0.3 1. ]\n",
      " [0.  0.  0.  0. ]\n",
      " [0.  0.  0.  0. ]]\n",
      "max\n",
      "[0.3 0.  1.  1. ]\n",
      "mu_нд_R5\n",
      "[0.7 1.  0.  0. ]\n",
      "\n",
      "B\n",
      "[[0.6 0.  0.  1. ]\n",
      " [0.  1.  0.7 0. ]\n",
      " [0.7 0.8 0.  0. ]\n",
      " [0.  0.  1.  0.7]\n",
      " [0.7 1.  0.  0. ]]\n"
     ]
    }
   ],
   "source": [
    "# н о с п\n",
    "R1s = np.maximum(R1-R1.T,0)\n",
    "R2s = np.maximum(R2-R2.T,0)\n",
    "R3s = np.maximum(R3-R3.T,0)\n",
    "R4s = np.maximum(R4-R4.T,0)\n",
    "R5s = np.maximum(R5-R5.T,0)\n",
    "B = np.array([1-np.max(R1s,axis=0),\n",
    "              1-np.max(R2s,axis=0),1-np.max(R3s,axis=0),1-np.max(R4s,axis=0),1-np.max(R5s,axis=0)])\n",
    "print(f'R1s\\n{R1s}\\nmax\\n{np.max(R1s,axis=0)}\\nmu_нд_R1\\n{B[0]}\\n\\nR2s\\n{R2s}\\nmax\\n{np.max(R2s,axis=0)}\\nmu_нд_R2\\n{B[1]}\\n\\nR3s\\n{R3s}\\nmax\\n{np.max(R3s,axis=0)}\\nmu_нд_R3\\n{B[2]}\\n\\nR4s\\n{R4s}\\nmax\\n{np.max(R4s,axis=0)}\\nmu_нд_R4\\n{B[3]}\\n\\nR5s\\n{R5s}\\nmax\\n{np.max(R5s,axis=0)}\\nmu_нд_R5\\n{B[4]}\\n\\nB\\n{B}')"
   ]
  },
  {
   "cell_type": "code",
   "execution_count": 104,
   "id": "b095f921-b78c-42fb-a268-8ae9d2a7be94",
   "metadata": {
    "scrolled": true
   },
   "outputs": [
    {
     "name": "stdout",
     "output_type": "stream",
     "text": [
      "E*B\n",
      "[[0.7 0.9 0.1 1. ]\n",
      " [0.7 1.  0.7 0.4]\n",
      " [0.7 0.8 0.5 0.2]\n",
      " [0.6 0.6 1.  0.8]\n",
      " [0.7 1.  0.6 0.6]]\n",
      "\n",
      "C\n",
      "[[0.7 0.7 0.6 0.6]\n",
      " [0.7 1.  0.7 0.6]\n",
      " [0.7 0.7 1.  0.8]\n",
      " [0.7 0.9 0.7 1. ]]\n"
     ]
    }
   ],
   "source": [
    "EB = np.array([[max(min(E[i][k], B[k][j]) for k in range(len(E[0]))) for j in range(len(B[0]))] for i in range(len(E))])\n",
    "C = np.array([[max(min(B.T[i][k], EB[k][j]) for k in range(len(B.T[0]))) for j in range(len(EB[0]))] for i in range(len(B.T))])\n",
    "\n",
    "print(f'E*B\\n{EB}\\n\\nC\\n{C}')"
   ]
  },
  {
   "cell_type": "code",
   "execution_count": 134,
   "id": "ba5875d1-cca0-420d-b401-66b3f7e3d0ec",
   "metadata": {
    "scrolled": true
   },
   "outputs": [
    {
     "name": "stdout",
     "output_type": "stream",
     "text": [
      "Cs\n",
      "[[0.  0.  0.  0. ]\n",
      " [0.  0.  0.  0. ]\n",
      " [0.1 0.  0.  0.1]\n",
      " [0.1 0.3 0.  0. ]]\n",
      "max\n",
      "[0.1 0.3 0.  0.1]\n",
      "\n",
      "mu_нд_C\n",
      "[0.9 0.7 1.  0.9]\n",
      "cjj\n",
      "[0.7, 1.0, 1.0, 1.0]\n"
     ]
    }
   ],
   "source": [
    "mu_нд_C = 1-np.max(np.maximum(C-C.T,0),axis=0)\n",
    "cjj = [C[j,j] for j in range(C.shape[0])]\n",
    "print(f'Cs\\n{np.maximum(C-C.T,0)}\\nmax\\n{np.max(np.maximum(C-C.T,0),axis=0)}\\n\\nmu_нд_C\\n{mu_нд_C}\\ncjj\\n{cjj}')"
   ]
  },
  {
   "cell_type": "code",
   "execution_count": 138,
   "id": "616bcf3d-9c55-40b8-acfd-1d1bbd0e1cc8",
   "metadata": {},
   "outputs": [
    {
     "name": "stdout",
     "output_type": "stream",
     "text": [
      "mu_нд\n",
      "[0.7 0.7 1.  0.9]\n"
     ]
    }
   ],
   "source": [
    "print(f'mu_нд\\n{np.minimum(cjj,mu_нд_C)}')"
   ]
  },
  {
   "cell_type": "code",
   "execution_count": 142,
   "id": "edff5554-4b42-424f-8ac4-b1a85c82e265",
   "metadata": {},
   "outputs": [
    {
     "name": "stdout",
     "output_type": "stream",
     "text": [
      "оптимальная альтернатива x3, mu_нд(x3) = 1.0\n"
     ]
    }
   ],
   "source": [
    "x = np.argmax(np.minimum(cjj,mu_нд_C))\n",
    "print(f'оптимальная альтернатива x{x+1}, mu_нд(x{x+1}) = {np.minimum(cjj,mu_нд_C)[x]}')"
   ]
  }
 ],
 "metadata": {
  "kernelspec": {
   "display_name": "Python 3 (ipykernel)",
   "language": "python",
   "name": "python3"
  },
  "language_info": {
   "codemirror_mode": {
    "name": "ipython",
    "version": 3
   },
   "file_extension": ".py",
   "mimetype": "text/x-python",
   "name": "python",
   "nbconvert_exporter": "python",
   "pygments_lexer": "ipython3",
   "version": "3.12.4"
  }
 },
 "nbformat": 4,
 "nbformat_minor": 5
}
