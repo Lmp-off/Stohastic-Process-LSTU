{
 "cells": [
  {
   "cell_type": "code",
   "execution_count": 1,
   "id": "f574f026-8cbe-4d8c-8a81-88b637d9229c",
   "metadata": {},
   "outputs": [],
   "source": [
    "import numpy as np"
   ]
  },
  {
   "cell_type": "code",
   "execution_count": 236,
   "id": "1084a57d-8127-4f42-ae84-5407fff5efa6",
   "metadata": {},
   "outputs": [],
   "source": [
    "data = np.array([\n",
    "    [1,   2.5, 2.5, 4,     5,   6.5, 6.5, 8],\n",
    "    [1,   2,   3.5, 3.5,   7.5, 6,   7.5, 5],\n",
    "    [1,   2,   3.5, 3.5,   6,   5,   7.5, 7.5],\n",
    "    [2.5, 1,   2.5, 4.5,   4.5, 7.5, 6,   7.5],\n",
    "    [1.5, 1.5, 3,   5,     4,   7.5, 6,   7.5],\n",
    "    [3.5, 2,   1,   3.5,   5,   6,   7,   8],\n",
    "    [1,   2,   3,   4,     5.5, 5.5, 8,   7]\n",
    "])"
   ]
  },
  {
   "cell_type": "code",
   "execution_count": 238,
   "id": "d297df53-18f7-4c99-ae89-000233f09e24",
   "metadata": {},
   "outputs": [
    {
     "name": "stdout",
     "output_type": "stream",
     "text": [
      "Суммы рангов:\n",
      "[11.5 13.  19.  28.  37.5 44.  48.5 50.5]\n"
     ]
    }
   ],
   "source": [
    "ranks = np.sum(data,axis=0)\n",
    "print(f'Суммы рангов:\\n{ranks}')"
   ]
  },
  {
   "cell_type": "code",
   "execution_count": 240,
   "id": "3e2479b7-6d4e-4121-b79d-9e706979ed7f",
   "metadata": {},
   "outputs": [
    {
     "name": "stdout",
     "output_type": "stream",
     "text": [
      "Средняя сумма рангов: 31.5\n"
     ]
    }
   ],
   "source": [
    "av_rank_sum = (1+data.shape[1])*data.shape[0]/2\n",
    "print(f'Средняя сумма рангов: {av_rank_sum}')"
   ]
  },
  {
   "cell_type": "code",
   "execution_count": 242,
   "id": "6db25fec-8355-44a7-b06e-95f603df46c7",
   "metadata": {},
   "outputs": [
    {
     "name": "stdout",
     "output_type": "stream",
     "text": [
      "сумма рангов:\n",
      "[11.5 13.  19.  28.  37.5 44.  48.5 50.5]\n",
      "\n",
      "отклонение от средней суммы:\n",
      "[-20.  -18.5 -12.5  -3.5   6.   12.5  17.   19. ]\n"
     ]
    }
   ],
   "source": [
    "dev_av_rank = ranks-av_rank_sum\n",
    "print(f'сумма рангов:\\n{ranks}\\n\\nотклонение от средней суммы:\\n{dev_av_rank}')"
   ]
  },
  {
   "cell_type": "code",
   "execution_count": 244,
   "id": "c23c884a-4b23-4062-ae2e-94cf0d86daa6",
   "metadata": {},
   "outputs": [
    {
     "name": "stdout",
     "output_type": "stream",
     "text": [
      "S = 1753.0\n"
     ]
    }
   ],
   "source": [
    "#сумма квадратов отклонений суммы рангов\n",
    "S = sum(dev_av_rank**2)\n",
    "print(f'S = {S}')"
   ]
  },
  {
   "cell_type": "code",
   "execution_count": 246,
   "id": "83a1c9ae-92e6-46a3-b5c2-e6418e6d4736",
   "metadata": {},
   "outputs": [
    {
     "data": {
      "text/plain": [
       "[[1, 2, 1, 1, 2, 1],\n",
       " [1, 1, 2, 1, 1, 2],\n",
       " [1, 1, 2, 1, 1, 2],\n",
       " [1, 2, 2, 1, 2],\n",
       " [2, 1, 1, 1, 1, 2],\n",
       " [1, 1, 2, 1, 1, 1, 1],\n",
       " [1, 1, 1, 1, 2, 1, 1]]"
      ]
     },
     "execution_count": 246,
     "metadata": {},
     "output_type": "execute_result"
    }
   ],
   "source": [
    "#пары одинаковых рангов\n",
    "counts = [np.unique(data[i], return_counts=True)[1] for i in range(data.shape[0])]\n",
    "\n",
    "count_pairs = [[numb for numb in row] for row in counts]\n",
    "count_pairs"
   ]
  },
  {
   "cell_type": "code",
   "execution_count": 248,
   "id": "12a4a063-b7cf-48bd-8214-6e07cbee2690",
   "metadata": {},
   "outputs": [
    {
     "name": "stdout",
     "output_type": "stream",
     "text": [
      "T = 78\n"
     ]
    }
   ],
   "source": [
    "T = np.sum([np.sum([b**3-b for b in a]) for a in count_pairs])\n",
    "print(f'T = {T}')"
   ]
  },
  {
   "cell_type": "code",
   "execution_count": 250,
   "id": "a83f0ed8-e891-41fc-804d-8f0ac132d099",
   "metadata": {},
   "outputs": [
    {
     "name": "stdout",
     "output_type": "stream",
     "text": [
      "Ответ: R = 0.871055900621118\n"
     ]
    }
   ],
   "source": [
    "m,n = data.shape\n",
    "R = (12*S)/(m**2*(n**3-n)-m*T)\n",
    "print(f'Ответ: R = {R}')"
   ]
  },
  {
   "cell_type": "code",
   "execution_count": null,
   "id": "67bc4d2d-8ba4-42b0-b9af-259f2da6b46a",
   "metadata": {},
   "outputs": [],
   "source": []
  }
 ],
 "metadata": {
  "kernelspec": {
   "display_name": "Python 3 (ipykernel)",
   "language": "python",
   "name": "python3"
  },
  "language_info": {
   "codemirror_mode": {
    "name": "ipython",
    "version": 3
   },
   "file_extension": ".py",
   "mimetype": "text/x-python",
   "name": "python",
   "nbconvert_exporter": "python",
   "pygments_lexer": "ipython3",
   "version": "3.12.4"
  }
 },
 "nbformat": 4,
 "nbformat_minor": 5
}
